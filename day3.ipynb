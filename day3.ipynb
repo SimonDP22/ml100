{
  "nbformat": 4,
  "nbformat_minor": 0,
  "metadata": {
    "colab": {
      "name": "day3.ipynb",
      "provenance": [],
      "include_colab_link": true
    },
    "kernelspec": {
      "name": "python3",
      "display_name": "Python 3"
    }
  },
  "cells": [
    {
      "cell_type": "markdown",
      "metadata": {
        "id": "view-in-github",
        "colab_type": "text"
      },
      "source": [
        "<a href=\"https://colab.research.google.com/github/SimonDP22/ml100/blob/master/day3.ipynb\" target=\"_parent\"><img src=\"https://colab.research.google.com/assets/colab-badge.svg\" alt=\"Open In Colab\"/></a>"
      ]
    },
    {
      "cell_type": "markdown",
      "metadata": {
        "id": "o-wXdLdsZY0_",
        "colab_type": "text"
      },
      "source": [
        "# Astuce Pandas 3/100\n",
        "Vous voulez scraper une page Web pour des donnees. Utilisez la fonction  `read_html()` intégrée à Pandas pour obtenir les données dans un DataFrame. "
      ]
    },
    {
      "cell_type": "code",
      "metadata": {
        "id": "uW9kQ_4fZXWV",
        "colab_type": "code",
        "colab": {}
      },
      "source": [
        "import pandas as pd"
      ],
      "execution_count": 0,
      "outputs": []
    },
    {
      "cell_type": "code",
      "metadata": {
        "id": "3a8rukFsZ2OZ",
        "colab_type": "code",
        "colab": {}
      },
      "source": [
        "url = 'https://ca.finance.yahoo.com/screener/predefined/day_gainers'"
      ],
      "execution_count": 0,
      "outputs": []
    },
    {
      "cell_type": "code",
      "metadata": {
        "id": "SNINn7xHaSb0",
        "colab_type": "code",
        "colab": {}
      },
      "source": [
        "# Retourne une liste de DataFrame\n",
        "df =  pd.read_html(url)[0]"
      ],
      "execution_count": 0,
      "outputs": []
    },
    {
      "cell_type": "code",
      "metadata": {
        "id": "plXJZ1JwaHU4",
        "colab_type": "code",
        "colab": {
          "base_uri": "https://localhost:8080/",
          "height": 255
        },
        "outputId": "afce4bba-a30d-4631-8a84-9b7ed47f5640"
      },
      "source": [
        "df.head()"
      ],
      "execution_count": 4,
      "outputs": [
        {
          "output_type": "execute_result",
          "data": {
            "text/html": [
              "<div>\n",
              "<style scoped>\n",
              "    .dataframe tbody tr th:only-of-type {\n",
              "        vertical-align: middle;\n",
              "    }\n",
              "\n",
              "    .dataframe tbody tr th {\n",
              "        vertical-align: top;\n",
              "    }\n",
              "\n",
              "    .dataframe thead th {\n",
              "        text-align: right;\n",
              "    }\n",
              "</style>\n",
              "<table border=\"1\" class=\"dataframe\">\n",
              "  <thead>\n",
              "    <tr style=\"text-align: right;\">\n",
              "      <th></th>\n",
              "      <th>Symbol</th>\n",
              "      <th>Name</th>\n",
              "      <th>Price (Intraday)</th>\n",
              "      <th>Change</th>\n",
              "      <th>% Change</th>\n",
              "      <th>Volume</th>\n",
              "      <th>Avg Vol (3 month)</th>\n",
              "      <th>Market Cap</th>\n",
              "      <th>PE Ratio (TTM)</th>\n",
              "      <th>52 Week Range</th>\n",
              "    </tr>\n",
              "  </thead>\n",
              "  <tbody>\n",
              "    <tr>\n",
              "      <th>0</th>\n",
              "      <td>GBXPY</td>\n",
              "      <td>Via Varejo S.A.</td>\n",
              "      <td>2.67</td>\n",
              "      <td>0.670</td>\n",
              "      <td>+33.50%</td>\n",
              "      <td>25000</td>\n",
              "      <td>0</td>\n",
              "      <td>3.557B</td>\n",
              "      <td>NaN</td>\n",
              "      <td>NaN</td>\n",
              "    </tr>\n",
              "    <tr>\n",
              "      <th>1</th>\n",
              "      <td>SRPT</td>\n",
              "      <td>Sarepta Therapeutics, Inc.</td>\n",
              "      <td>132.05</td>\n",
              "      <td>31.580</td>\n",
              "      <td>+31.43%</td>\n",
              "      <td>10.614M</td>\n",
              "      <td>1.31M</td>\n",
              "      <td>9.843B</td>\n",
              "      <td>NaN</td>\n",
              "      <td>NaN</td>\n",
              "    </tr>\n",
              "    <tr>\n",
              "      <th>2</th>\n",
              "      <td>GBOOF</td>\n",
              "      <td>Grupo Financiero Banorte, S.A.B. de C.V.</td>\n",
              "      <td>6.04</td>\n",
              "      <td>1.100</td>\n",
              "      <td>+22.25%</td>\n",
              "      <td>52611</td>\n",
              "      <td>3819</td>\n",
              "      <td>19.592B</td>\n",
              "      <td>11.93</td>\n",
              "      <td>NaN</td>\n",
              "    </tr>\n",
              "    <tr>\n",
              "      <th>3</th>\n",
              "      <td>ICAGY</td>\n",
              "      <td>International Consolidated Airlines Group, S.A.</td>\n",
              "      <td>16.82</td>\n",
              "      <td>2.280</td>\n",
              "      <td>+15.68%</td>\n",
              "      <td>123181</td>\n",
              "      <td>26101</td>\n",
              "      <td>16.864B</td>\n",
              "      <td>5.25</td>\n",
              "      <td>NaN</td>\n",
              "    </tr>\n",
              "    <tr>\n",
              "      <th>4</th>\n",
              "      <td>IENVF</td>\n",
              "      <td>Infraestructura Energetica Nova, S.A.B. de C.V.</td>\n",
              "      <td>4.83</td>\n",
              "      <td>0.624</td>\n",
              "      <td>+14.84%</td>\n",
              "      <td>26452</td>\n",
              "      <td>1621</td>\n",
              "      <td>7.828B</td>\n",
              "      <td>17.96</td>\n",
              "      <td>NaN</td>\n",
              "    </tr>\n",
              "  </tbody>\n",
              "</table>\n",
              "</div>"
            ],
            "text/plain": [
              "  Symbol  ... 52 Week Range\n",
              "0  GBXPY  ...           NaN\n",
              "1   SRPT  ...           NaN\n",
              "2  GBOOF  ...           NaN\n",
              "3  ICAGY  ...           NaN\n",
              "4  IENVF  ...           NaN\n",
              "\n",
              "[5 rows x 10 columns]"
            ]
          },
          "metadata": {
            "tags": []
          },
          "execution_count": 4
        }
      ]
    },
    {
      "cell_type": "code",
      "metadata": {
        "id": "ciz5lvfJaJwp",
        "colab_type": "code",
        "colab": {}
      },
      "source": [
        ""
      ],
      "execution_count": 0,
      "outputs": []
    }
  ]
}