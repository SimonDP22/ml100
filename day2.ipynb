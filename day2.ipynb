{
  "nbformat": 4,
  "nbformat_minor": 0,
  "metadata": {
    "colab": {
      "name": "day2.ipynb",
      "provenance": [],
      "collapsed_sections": [],
      "include_colab_link": true
    },
    "kernelspec": {
      "name": "python3",
      "display_name": "Python 3"
    }
  },
  "cells": [
    {
      "cell_type": "markdown",
      "metadata": {
        "id": "view-in-github",
        "colab_type": "text"
      },
      "source": [
        "<a href=\"https://colab.research.google.com/github/SimonDP22/ml100/blob/master/day2.ipynb\" target=\"_parent\"><img src=\"https://colab.research.google.com/assets/colab-badge.svg\" alt=\"Open In Colab\"/></a>"
      ]
    },
    {
      "cell_type": "markdown",
      "metadata": {
        "id": "VtIoTKsTSMu7",
        "colab_type": "text"
      },
      "source": [
        "# Astuce Pandas 2/100\n",
        "\n",
        "Vous voulez connaître le nombre de valeurs manquantes dans un DataFrame?\n",
        "\n",
        "```\n",
        "# df.isna().sum().sum()\n",
        "```\n",
        "\n",
        "Vous voulez juste savoir s'il y a des valeurs manquantes ? (booléenne)\n",
        "\n",
        "```\n",
        "# df.isna().any().any()\n",
        "```\n",
        "\n"
      ]
    },
    {
      "cell_type": "code",
      "metadata": {
        "id": "jqIdzpx9RlSW",
        "colab_type": "code",
        "colab": {}
      },
      "source": [
        "# importe Pandas, le fichier csv\n",
        "import pandas as pd\n",
        "df = pd.read_csv('/content/sample_data/california_housing_test.csv')"
      ],
      "execution_count": 0,
      "outputs": []
    },
    {
      "cell_type": "code",
      "metadata": {
        "id": "ASAGgh_zRqdI",
        "colab_type": "code",
        "colab": {
          "base_uri": "https://localhost:8080/",
          "height": 187
        },
        "outputId": "af2f2c8e-37ff-42d0-8123-aea09912f687"
      },
      "source": [
        "# compte le nombre de valeur manquantes par colonne\n",
        "df.isna().sum()"
      ],
      "execution_count": 24,
      "outputs": [
        {
          "output_type": "execute_result",
          "data": {
            "text/plain": [
              "longitude                0\n",
              "latitude                 0\n",
              "housing_median_age    1401\n",
              "total_rooms              0\n",
              "total_bedrooms           0\n",
              "population               0\n",
              "households               0\n",
              "median_income            0\n",
              "median_house_value       0\n",
              "dtype: int64"
            ]
          },
          "metadata": {
            "tags": []
          },
          "execution_count": 24
        }
      ]
    },
    {
      "cell_type": "code",
      "metadata": {
        "id": "fUQAjNAIVE-q",
        "colab_type": "code",
        "colab": {
          "base_uri": "https://localhost:8080/",
          "height": 34
        },
        "outputId": "790dbbf3-38a1-420d-f8a8-49d23bae16ae"
      },
      "source": [
        "# Compte le nombre total de valeurs manquantes\n",
        "df.isna().sum().sum()"
      ],
      "execution_count": 25,
      "outputs": [
        {
          "output_type": "execute_result",
          "data": {
            "text/plain": [
              "1401"
            ]
          },
          "metadata": {
            "tags": []
          },
          "execution_count": 25
        }
      ]
    },
    {
      "cell_type": "code",
      "metadata": {
        "id": "jF5FkDdnSswr",
        "colab_type": "code",
        "colab": {
          "base_uri": "https://localhost:8080/",
          "height": 187
        },
        "outputId": "b3f9c3fb-c7e9-41a1-fff5-c6369549c95d"
      },
      "source": [
        "# Y-a-t-il des valeurs manquantes par colonne ?\n",
        "df.isna().any()"
      ],
      "execution_count": 26,
      "outputs": [
        {
          "output_type": "execute_result",
          "data": {
            "text/plain": [
              "longitude             False\n",
              "latitude              False\n",
              "housing_median_age     True\n",
              "total_rooms           False\n",
              "total_bedrooms        False\n",
              "population            False\n",
              "households            False\n",
              "median_income         False\n",
              "median_house_value    False\n",
              "dtype: bool"
            ]
          },
          "metadata": {
            "tags": []
          },
          "execution_count": 26
        }
      ]
    },
    {
      "cell_type": "code",
      "metadata": {
        "id": "qXSSi6dzVUAQ",
        "colab_type": "code",
        "colab": {
          "base_uri": "https://localhost:8080/",
          "height": 34
        },
        "outputId": "658acf07-acb3-4869-b02d-371567f76adf"
      },
      "source": [
        "# Y-a-t-il des valeurs manquantes dans le DataFrame ? \n",
        "df.isna().any(axis=None)"
      ],
      "execution_count": 27,
      "outputs": [
        {
          "output_type": "execute_result",
          "data": {
            "text/plain": [
              "True"
            ]
          },
          "metadata": {
            "tags": []
          },
          "execution_count": 27
        }
      ]
    }
  ]
}